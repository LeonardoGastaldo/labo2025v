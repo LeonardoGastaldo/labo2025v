{
  "nbformat": 4,
  "nbformat_minor": 0,
  "metadata": {
    "colab": {
      "provenance": [],
      "authorship_tag": "ABX9TyPSK2lLWWyAqYyL0qxqI5Tm",
      "include_colab_link": true
    },
    "kernelspec": {
      "name": "ir",
      "display_name": "R"
    },
    "language_info": {
      "name": "R"
    }
  },
  "cells": [
    {
      "cell_type": "markdown",
      "metadata": {
        "id": "view-in-github",
        "colab_type": "text"
      },
      "source": [
        "<a href=\"https://colab.research.google.com/github/LeonardoGastaldo/labo2025v/blob/main/LG_Optimizacion_Bayesiana_para_Arboles_Azarosos.ipynb\" target=\"_parent\"><img src=\"https://colab.research.google.com/assets/colab-badge.svg\" alt=\"Open In Colab\"/></a>"
      ]
    },
    {
      "cell_type": "markdown",
      "source": [
        "Aca correr con Python"
      ],
      "metadata": {
        "id": "i0Zw_kpmDaX-"
      }
    },
    {
      "cell_type": "code",
      "source": [
        "# primero establecer el Runtime de Python 3\n",
        "from google.colab import drive\n",
        "drive.mount('/content/.drive')"
      ],
      "metadata": {
        "colab": {
          "base_uri": "https://localhost:8080/"
        },
        "id": "V_NH8dAPDNma",
        "outputId": "5162abb0-f41b-4a5b-9344-99cc0d6dc680"
      },
      "execution_count": null,
      "outputs": [
        {
          "output_type": "stream",
          "name": "stdout",
          "text": [
            "Mounted at /content/.drive\n"
          ]
        }
      ]
    },
    {
      "cell_type": "code",
      "source": [
        "%%shell\n",
        "\n",
        "mkdir -p \"/content/.drive/My Drive/labo1\"\n",
        "mkdir -p \"/content/buckets\"\n",
        "ln -s \"/content/.drive/My Drive/labo1\" /content/buckets/b1\n",
        "\n",
        "mkdir -p ~/.kaggle\n",
        "cp /content/buckets/b1/kaggle/kaggle.json  ~/.kaggle\n",
        "chmod 600 ~/.kaggle/kaggle.json\n",
        "\n",
        "\n",
        "mkdir -p /content/buckets/b1/exp\n",
        "mkdir -p /content/buckets/b1/datasets\n",
        "mkdir -p /content/datasets\n",
        "\n",
        "\n",
        "\n",
        "archivo_origen=\"https://storage.googleapis.com/open-courses/austral2025-af91/dataset_pequeno.csv\"\n",
        "archivo_destino=\"/content/datasets/dataset_pequeno.csv\"\n",
        "archivo_destino_bucket=\"/content/buckets/b1/datasets/dataset_pequeno.csv\"\n",
        "\n",
        "if ! test -f $archivo_destino_bucket; then\n",
        "  wget  $archivo_origen  -O $archivo_destino_bucket\n",
        "fi\n",
        "\n",
        "\n",
        "if ! test -f $archivo_destino; then\n",
        "  cp  $archivo_destino_bucket  $archivo_destino\n",
        "fi"
      ],
      "metadata": {
        "colab": {
          "base_uri": "https://localhost:8080/"
        },
        "id": "dLVxKlgWDNLa",
        "outputId": "aeba446f-5777-4c11-867f-2488d7b8b269"
      },
      "execution_count": null,
      "outputs": [
        {
          "output_type": "execute_result",
          "data": {
            "text/plain": []
          },
          "metadata": {},
          "execution_count": 2
        }
      ]
    },
    {
      "cell_type": "markdown",
      "source": [
        "Aca correr con R"
      ],
      "metadata": {
        "id": "en9HwDn3DW_4"
      }
    },
    {
      "cell_type": "code",
      "source": [
        "format(Sys.time(), \"%a %b %d %X %Y\")"
      ],
      "metadata": {
        "colab": {
          "base_uri": "https://localhost:8080/",
          "height": 34
        },
        "id": "Iyg5SEF0D03x",
        "outputId": "0cecc808-eb30-4ca1-ca7d-beaded5e32bf"
      },
      "execution_count": null,
      "outputs": [
        {
          "output_type": "display_data",
          "data": {
            "text/html": [
              "'Fri Oct 24 09:14:08 PM 2025'"
            ],
            "text/markdown": "'Fri Oct 24 09:14:08 PM 2025'",
            "text/latex": "'Fri Oct 24 09:14:08 PM 2025'",
            "text/plain": [
              "[1] \"Fri Oct 24 09:14:08 PM 2025\""
            ]
          },
          "metadata": {}
        }
      ]
    },
    {
      "cell_type": "code",
      "source": [
        "# limpio la memoria\n",
        "rm(list=ls(all.names=TRUE)) # remove all objects\n",
        "gc(full=TRUE, verbose=FALSE) # garbage collection"
      ],
      "metadata": {
        "colab": {
          "base_uri": "https://localhost:8080/",
          "height": 129
        },
        "id": "a0XI79U0D2Pj",
        "outputId": "7ffe1230-9dfa-419e-9301-6d1e0f70f904"
      },
      "execution_count": null,
      "outputs": [
        {
          "output_type": "display_data",
          "data": {
            "text/html": [
              "<table class=\"dataframe\">\n",
              "<caption>A matrix: 2 × 6 of type dbl</caption>\n",
              "<thead>\n",
              "\t<tr><th></th><th scope=col>used</th><th scope=col>(Mb)</th><th scope=col>gc trigger</th><th scope=col>(Mb)</th><th scope=col>max used</th><th scope=col>(Mb)</th></tr>\n",
              "</thead>\n",
              "<tbody>\n",
              "\t<tr><th scope=row>Ncells</th><td> 664022</td><td>35.5</td><td>1454474</td><td>77.7</td><td>1454474</td><td>77.7</td></tr>\n",
              "\t<tr><th scope=row>Vcells</th><td>1235912</td><td> 9.5</td><td>8388608</td><td>64.0</td><td>1975128</td><td>15.1</td></tr>\n",
              "</tbody>\n",
              "</table>\n"
            ],
            "text/markdown": "\nA matrix: 2 × 6 of type dbl\n\n| <!--/--> | used | (Mb) | gc trigger | (Mb) | max used | (Mb) |\n|---|---|---|---|---|---|---|\n| Ncells |  664022 | 35.5 | 1454474 | 77.7 | 1454474 | 77.7 |\n| Vcells | 1235912 |  9.5 | 8388608 | 64.0 | 1975128 | 15.1 |\n\n",
            "text/latex": "A matrix: 2 × 6 of type dbl\n\\begin{tabular}{r|llllll}\n  & used & (Mb) & gc trigger & (Mb) & max used & (Mb)\\\\\n\\hline\n\tNcells &  664022 & 35.5 & 1454474 & 77.7 & 1454474 & 77.7\\\\\n\tVcells & 1235912 &  9.5 & 8388608 & 64.0 & 1975128 & 15.1\\\\\n\\end{tabular}\n",
            "text/plain": [
              "       used    (Mb) gc trigger (Mb) max used (Mb)\n",
              "Ncells  664022 35.5 1454474    77.7 1454474  77.7\n",
              "Vcells 1235912  9.5 8388608    64.0 1975128  15.1"
            ]
          },
          "metadata": {}
        }
      ]
    },
    {
      "cell_type": "code",
      "source": [
        "# Instalar librería (solo 1 vez)\n",
        "install.packages(\"ParBayesianOptimization\")\n",
        "\n",
        "# Cargar paquetes\n",
        "library(ParBayesianOptimization)\n",
        "# cargo las librerias que necesito\n",
        "require(\"data.table\")\n",
        "require(\"rpart\")"
      ],
      "metadata": {
        "colab": {
          "base_uri": "https://localhost:8080/"
        },
        "id": "ZAaAqDMxEY_S",
        "outputId": "1c341886-c3e1-4bc6-db51-36b51bfe7825"
      },
      "execution_count": null,
      "outputs": [
        {
          "output_type": "stream",
          "name": "stderr",
          "text": [
            "Installing package into ‘/usr/local/lib/R/site-library’\n",
            "(as ‘lib’ is unspecified)\n",
            "\n",
            "Loading required package: data.table\n",
            "\n",
            "Loading required package: rpart\n",
            "\n"
          ]
        }
      ]
    },
    {
      "cell_type": "code",
      "source": [
        "setwd(\"/content/buckets/b1/exp\")\n",
        "# lectura del dataset\n",
        "dataset <- fread(\"/content/datasets/dataset_pequeno.csv\")"
      ],
      "metadata": {
        "id": "5VAp6220ELnn"
      },
      "execution_count": null,
      "outputs": []
    },
    {
      "cell_type": "code",
      "execution_count": null,
      "metadata": {
        "colab": {
          "base_uri": "https://localhost:8080/",
          "height": 465
        },
        "id": "44l4O0FC_2NU",
        "outputId": "f4ee6f20-5b71-49ec-ee9a-8e7773f1218e"
      },
      "outputs": [
        {
          "output_type": "stream",
          "name": "stdout",
          "text": [
            "\n",
            "Running initial scoring function 10 times in 1 thread(s)...$cp\n",
            "[1] -0.001\n",
            "\n",
            "$minsplit\n",
            "[1] 5000\n",
            "\n",
            "$minbucket\n",
            "[1] 857\n",
            "\n",
            "$maxdepth\n",
            "[1] 26\n",
            "\n"
          ]
        },
        {
          "output_type": "error",
          "ename": "ERROR",
          "evalue": "Error in scoreSummary(optimizacion): could not find function \"scoreSummary\"\n",
          "traceback": [
            "Error in scoreSummary(optimizacion): could not find function \"scoreSummary\"\nTraceback:\n",
            "1. .handleSimpleError(function (cnd) \n . {\n .     watcher$capture_plot_and_output()\n .     cnd <- sanitize_call(cnd)\n .     watcher$push(cnd)\n .     switch(on_error, continue = invokeRestart(\"eval_continue\"), \n .         stop = invokeRestart(\"eval_stop\"), error = NULL)\n . }, \"could not find function \\\"scoreSummary\\\"\", base::quote(scoreSummary(optimizacion)))"
          ]
        }
      ],
      "source": [
        "# Cargar datos y preparar entorno\n",
        "set.seed(101581)\n",
        "dtrain <- dataset[foto_mes == 202107]\n",
        "dfuture <- dataset[foto_mes == 202109]\n",
        "campos_buenos <- setdiff(colnames(dtrain), \"clase_ternaria\")\n",
        "\n",
        "# Función objetivo para evaluación\n",
        "funcion_objetivo <- function(cp, minsplit, minbucket, maxdepth) {\n",
        "  resultados <- c()\n",
        "\n",
        "  for (i in 1:5) {\n",
        "    campos_random <- sample(campos_buenos, size = as.integer(length(campos_buenos) * 0.5))\n",
        "    formula <- as.formula(paste(\"clase_ternaria ~\", paste(campos_random, collapse = \" + \")))\n",
        "\n",
        "    modelo <- rpart(\n",
        "      formula = formula,\n",
        "      data = dtrain,\n",
        "      xval = 0,\n",
        "      control = rpart.control(\n",
        "        cp = cp,\n",
        "        minsplit = as.integer(minsplit),\n",
        "        minbucket = as.integer(minbucket),\n",
        "        maxdepth = as.integer(maxdepth)\n",
        "      )\n",
        "    )\n",
        "\n",
        "    # Aquí la métrica: suma de las probabilidades de \"BAJA+2\"\n",
        "    pred <- predict(modelo, dfuture, type = \"prob\")[, \"BAJA+2\"]\n",
        "    resultados <- c(resultados, sum(pred, na.rm = TRUE))\n",
        "  }\n",
        "\n",
        "  return(list(Score = mean(resultados)))\n",
        "}\n",
        "\n",
        "# Ejecutar Optimización Bayesiana\n",
        "optimizacion <- bayesOpt(\n",
        "  FUN = funcion_objetivo,\n",
        "  bounds = list(\n",
        "    cp = c(-0.5, -0.001),\n",
        "    minsplit = c(500L, 5000L),\n",
        "    minbucket = c(10L, 1000L),\n",
        "    maxdepth = c(4L, 30L)\n",
        "  ),\n",
        "  initPoints = 10,\n",
        "  iters.n = 20,\n",
        "  acq = \"ucb\",\n",
        "  kappa = 2.576,\n",
        "  verbose = 1\n",
        ")\n",
        "\n",
        "# Mostrar mejores hiperparámetros\n",
        "print(getBestPars(optimizacion))\n",
        "\n",
        "# Mostrar resumen de todas las combinaciones evaluadas\n",
        "print(scoreSummary(optimizacion))\n"
      ]
    },
    {
      "cell_type": "code",
      "source": [
        "format(Sys.time(), \"%a %b %d %X %Y\")"
      ],
      "metadata": {
        "id": "S5X5FMjfExfY"
      },
      "execution_count": null,
      "outputs": []
    }
  ]
}