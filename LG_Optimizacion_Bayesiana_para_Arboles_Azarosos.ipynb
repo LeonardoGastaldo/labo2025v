{
  "nbformat": 4,
  "nbformat_minor": 0,
  "metadata": {
    "colab": {
      "provenance": [],
      "authorship_tag": "ABX9TyNA7S4rHsnQayYvGyv7cMEL",
      "include_colab_link": true
    },
    "kernelspec": {
      "name": "ir",
      "display_name": "R"
    },
    "language_info": {
      "name": "R"
    }
  },
  "cells": [
    {
      "cell_type": "markdown",
      "metadata": {
        "id": "view-in-github",
        "colab_type": "text"
      },
      "source": [
        "<a href=\"https://colab.research.google.com/github/LeonardoGastaldo/labo2025v/blob/main/LG_Optimizacion_Bayesiana_para_Arboles_Azarosos.ipynb\" target=\"_parent\"><img src=\"https://colab.research.google.com/assets/colab-badge.svg\" alt=\"Open In Colab\"/></a>"
      ]
    },
    {
      "cell_type": "markdown",
      "source": [
        "Aca correr con Python"
      ],
      "metadata": {
        "id": "i0Zw_kpmDaX-"
      }
    },
    {
      "cell_type": "code",
      "source": [
        "# primero establecer el Runtime de Python 3\n",
        "from google.colab import drive\n",
        "drive.mount('/content/.drive')"
      ],
      "metadata": {
        "colab": {
          "base_uri": "https://localhost:8080/"
        },
        "id": "V_NH8dAPDNma",
        "outputId": "2a25c727-259d-4bda-ee5f-b46f42f0d564"
      },
      "execution_count": null,
      "outputs": [
        {
          "output_type": "stream",
          "name": "stdout",
          "text": [
            "Mounted at /content/.drive\n"
          ]
        }
      ]
    },
    {
      "cell_type": "code",
      "source": [
        "%%shell\n",
        "\n",
        "mkdir -p \"/content/.drive/My Drive/labo1\"\n",
        "mkdir -p \"/content/buckets\"\n",
        "ln -s \"/content/.drive/My Drive/labo1\" /content/buckets/b1\n",
        "\n",
        "mkdir -p ~/.kaggle\n",
        "cp /content/buckets/b1/kaggle/kaggle.json  ~/.kaggle\n",
        "chmod 600 ~/.kaggle/kaggle.json\n",
        "\n",
        "\n",
        "mkdir -p /content/buckets/b1/exp\n",
        "mkdir -p /content/buckets/b1/datasets\n",
        "mkdir -p /content/datasets\n",
        "\n",
        "\n",
        "\n",
        "archivo_origen=\"https://storage.googleapis.com/open-courses/austral2025-af91/dataset_pequeno.csv\"\n",
        "archivo_destino=\"/content/datasets/dataset_pequeno.csv\"\n",
        "archivo_destino_bucket=\"/content/buckets/b1/datasets/dataset_pequeno.csv\"\n",
        "\n",
        "if ! test -f $archivo_destino_bucket; then\n",
        "  wget  $archivo_origen  -O $archivo_destino_bucket\n",
        "fi\n",
        "\n",
        "\n",
        "if ! test -f $archivo_destino; then\n",
        "  cp  $archivo_destino_bucket  $archivo_destino\n",
        "fi"
      ],
      "metadata": {
        "colab": {
          "base_uri": "https://localhost:8080/"
        },
        "id": "dLVxKlgWDNLa",
        "outputId": "86261c21-70f2-4d30-f56c-88232a60a9d6"
      },
      "execution_count": null,
      "outputs": [
        {
          "output_type": "execute_result",
          "data": {
            "text/plain": []
          },
          "metadata": {},
          "execution_count": 2
        }
      ]
    },
    {
      "cell_type": "markdown",
      "source": [
        "Aca correr con R"
      ],
      "metadata": {
        "id": "en9HwDn3DW_4"
      }
    },
    {
      "cell_type": "code",
      "source": [
        "# limpio la memoria\n",
        "rm(list=ls(all.names=TRUE)) # remove all objects\n",
        "gc(full=TRUE, verbose=FALSE) # garbage collection"
      ],
      "metadata": {
        "colab": {
          "base_uri": "https://localhost:8080/",
          "height": 129
        },
        "id": "a0XI79U0D2Pj",
        "outputId": "0c2ede4d-a3f6-4e90-b17c-7f017f0d7ea1"
      },
      "execution_count": null,
      "outputs": [
        {
          "output_type": "display_data",
          "data": {
            "text/html": [
              "<table class=\"dataframe\">\n",
              "<caption>A matrix: 2 × 6 of type dbl</caption>\n",
              "<thead>\n",
              "\t<tr><th></th><th scope=col>used</th><th scope=col>(Mb)</th><th scope=col>gc trigger</th><th scope=col>(Mb)</th><th scope=col>max used</th><th scope=col>(Mb)</th></tr>\n",
              "</thead>\n",
              "<tbody>\n",
              "\t<tr><th scope=row>Ncells</th><td> 657244</td><td>35.2</td><td>1454451</td><td>77.7</td><td>1326115</td><td>70.9</td></tr>\n",
              "\t<tr><th scope=row>Vcells</th><td>1220271</td><td> 9.4</td><td>8388608</td><td>64.0</td><td>1975128</td><td>15.1</td></tr>\n",
              "</tbody>\n",
              "</table>\n"
            ],
            "text/markdown": "\nA matrix: 2 × 6 of type dbl\n\n| <!--/--> | used | (Mb) | gc trigger | (Mb) | max used | (Mb) |\n|---|---|---|---|---|---|---|\n| Ncells |  657244 | 35.2 | 1454451 | 77.7 | 1326115 | 70.9 |\n| Vcells | 1220271 |  9.4 | 8388608 | 64.0 | 1975128 | 15.1 |\n\n",
            "text/latex": "A matrix: 2 × 6 of type dbl\n\\begin{tabular}{r|llllll}\n  & used & (Mb) & gc trigger & (Mb) & max used & (Mb)\\\\\n\\hline\n\tNcells &  657244 & 35.2 & 1454451 & 77.7 & 1326115 & 70.9\\\\\n\tVcells & 1220271 &  9.4 & 8388608 & 64.0 & 1975128 & 15.1\\\\\n\\end{tabular}\n",
            "text/plain": [
              "       used    (Mb) gc trigger (Mb) max used (Mb)\n",
              "Ncells  657244 35.2 1454451    77.7 1326115  70.9\n",
              "Vcells 1220271  9.4 8388608    64.0 1975128  15.1"
            ]
          },
          "metadata": {}
        }
      ]
    },
    {
      "cell_type": "code",
      "source": [
        "principio <- Sys.time()\n",
        "format(Sys.time(), \"%a %b %d %X %Y\")"
      ],
      "metadata": {
        "colab": {
          "base_uri": "https://localhost:8080/",
          "height": 34
        },
        "id": "wxnRVrMjgc04",
        "outputId": "dbb00623-aa92-4b28-d8cf-3aa866f18612"
      },
      "execution_count": null,
      "outputs": [
        {
          "output_type": "display_data",
          "data": {
            "text/html": [
              "'Tue Oct 28 09:19:34 PM 2025'"
            ],
            "text/markdown": "'Tue Oct 28 09:19:34 PM 2025'",
            "text/latex": "'Tue Oct 28 09:19:34 PM 2025'",
            "text/plain": [
              "[1] \"Tue Oct 28 09:19:34 PM 2025\""
            ]
          },
          "metadata": {}
        }
      ]
    },
    {
      "cell_type": "code",
      "source": [
        "# Instalar librería (solo 1 vez)\n",
        "install.packages(\"ParBayesianOptimization\")\n",
        "\n",
        "# Cargar paquetes\n",
        "library(ParBayesianOptimization)\n",
        "# cargo las librerias que necesito\n",
        "require(\"data.table\")\n",
        "require(\"rpart\")"
      ],
      "metadata": {
        "colab": {
          "base_uri": "https://localhost:8080/"
        },
        "id": "ZAaAqDMxEY_S",
        "outputId": "fca169d2-2a41-49ce-a8ec-7b43446a600a"
      },
      "execution_count": null,
      "outputs": [
        {
          "output_type": "stream",
          "name": "stderr",
          "text": [
            "Installing package into ‘/usr/local/lib/R/site-library’\n",
            "(as ‘lib’ is unspecified)\n",
            "\n",
            "also installing the dependencies ‘rbibutils’, ‘Deriv’, ‘microbenchmark’, ‘Rdpack’, ‘numDeriv’, ‘doBy’, ‘SparseM’, ‘MatrixModels’, ‘minqa’, ‘nloptr’, ‘reformulas’, ‘RcppEigen’, ‘carData’, ‘abind’, ‘Formula’, ‘pbkrtest’, ‘quantreg’, ‘lme4’, ‘corrplot’, ‘car’, ‘iterators’, ‘ggrepel’, ‘ggsci’, ‘cowplot’, ‘ggsignif’, ‘gridExtra’, ‘polynom’, ‘rstatix’, ‘DiceKriging’, ‘foreach’, ‘dbscan’, ‘lhs’, ‘ggpubr’\n",
            "\n",
            "\n"
          ]
        }
      ]
    },
    {
      "cell_type": "code",
      "source": [
        "setwd(\"/content/buckets/b1/exp\")\n",
        "# lectura del dataset\n",
        "dataset <- fread(\"/content/datasets/dataset_pequeno.csv\")"
      ],
      "metadata": {
        "id": "5VAp6220ELnn"
      },
      "execution_count": null,
      "outputs": []
    },
    {
      "cell_type": "code",
      "source": [
        "# Cargar datos y preparar entorno\n",
        "##101581, 153817, 248887, 683377, 877411\n",
        "set.seed(248887)\n",
        "dtrain <- dataset[foto_mes == 202107]\n",
        "dfuture <- dataset[foto_mes == 202109]\n",
        "campos_buenos <- setdiff(colnames(dtrain), \"clase_ternaria\")"
      ],
      "metadata": {
        "id": "U90VAYvaMC8j"
      },
      "execution_count": null,
      "outputs": []
    },
    {
      "cell_type": "code",
      "source": [
        "# 1. Modificación de la Función Objetivo\n",
        "# Se añade 'porc_columnas' como argumento.\n",
        "funcion_objetivo <- function(minsplit, minbucket, maxdepth, feature_fraction) {\n",
        "  resultados <- c()\n",
        "\n",
        "  for (i in 1:5) {\n",
        "    # Usar el argumento 'porc_columnas'\n",
        "    campos_random <- sample(campos_buenos, size = as.integer(length(campos_buenos) * feature_fraction))\n",
        "    formula <- as.formula(paste(\"clase_ternaria ~\", paste(campos_random, collapse = \" + \")))\n",
        "\n",
        "    # ... (el resto del código del rpart es el mismo) ...\n",
        "\n",
        "    modelo <- rpart(\n",
        "      formula = formula,\n",
        "      data = dtrain,\n",
        "      xval = 0,\n",
        "      control = rpart.control(\n",
        "        cp = -0.5,\n",
        "        minsplit = as.integer(minsplit),\n",
        "        minbucket = as.integer(minbucket),\n",
        "        maxdepth = as.integer(maxdepth)\n",
        "      )\n",
        "    )\n",
        "\n",
        "    pred <- predict(modelo, dfuture, type = \"prob\")[, \"BAJA+2\"]\n",
        "    resultados <- c(resultados, sum(pred, na.rm = TRUE))\n",
        "  }\n",
        "\n",
        "  return(list(Score = mean(resultados)))\n",
        "}"
      ],
      "metadata": {
        "id": "zN08yYnDMNzs"
      },
      "execution_count": null,
      "outputs": []
    },
    {
      "cell_type": "code",
      "execution_count": null,
      "metadata": {
        "id": "44l4O0FC_2NU"
      },
      "outputs": [],
      "source": [
        "# 2. Modificación del Llamado a bayesOpt\n",
        "# Se añade 'porc_columnas' a los 'bounds'\n",
        "# Se Ajusta el Rango de Búsqueda de Hiperparámetros para que sea más amplio y no quede limitado.\n",
        "# Número de iteraciones para la función de optimización bayesiana más alto: 'bayesOpt(..., initPoints = 10, iters.n = 50)'\n",
        "optimizacion <- bayesOpt(\n",
        "  FUN = funcion_objetivo,\n",
        "  bounds = list(\n",
        "    minsplit = c(10, 10000),\n",
        "    minbucket = c(5, 1000),\n",
        "    maxdepth = c(4, 30),\n",
        "    feature_fraction = c(0.1, 0.7)\n",
        "  ),\n",
        "  initPoints = 10,\n",
        "  iters.n = 50,\n",
        "  acq = \"ucb\",\n",
        "  kappa = 2.576,\n",
        "  verbose = 1\n",
        ")"
      ]
    },
    {
      "cell_type": "code",
      "source": [
        "# Mejores hiperparámetros y métrica\n",
        "# Mostrar mejores hiperparámetros\n",
        "print(getBestPars(optimizacion))"
      ],
      "metadata": {
        "id": "FO0utQsldWIt"
      },
      "execution_count": null,
      "outputs": []
    },
    {
      "cell_type": "code",
      "source": [
        "format(Sys.time(), \"%a %b %d %X %Y\")\n",
        "fin <- Sys.time()\n",
        "\n",
        "# Duración en segundos\n",
        "secs <- as.numeric(difftime(fin, principio, units = \"secs\"))\n",
        "secs <- round(secs)\n",
        "\n",
        "# A hh:mm:ss\n",
        "h <- secs %/% 3600\n",
        "m <- (secs %% 3600) %/% 60\n",
        "s <- secs %% 60\n",
        "dur_hms <- sprintf(\"%02d:%02d:%02d\", h, m, s)\n",
        "\n",
        "cat(\n",
        "  \"Inicio: \", format(principio, \"%a %b %d %X %Y\"), \"\\n\",\n",
        "  \"Fin:    \", format(fin,       \"%a %b %d %X %Y\"), \"\\n\",\n",
        "  \"Duración (hh:mm:ss): \", dur_hms, \"\\n\",\n",
        "  sep = \"\"\n",
        ")"
      ],
      "metadata": {
        "id": "S5X5FMjfExfY"
      },
      "execution_count": null,
      "outputs": []
    }
  ]
}